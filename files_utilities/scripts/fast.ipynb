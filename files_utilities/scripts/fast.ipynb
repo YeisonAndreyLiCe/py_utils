{
 "cells": [
  {
   "cell_type": "code",
   "execution_count": 1,
   "metadata": {},
   "outputs": [],
   "source": [
    "import re"
   ]
  },
  {
   "cell_type": "code",
   "execution_count": 22,
   "metadata": {},
   "outputs": [
    {
     "data": {
      "text/plain": [
       "'john_doe_course_from_2018_01_01_to_2018_01_31'"
      ]
     },
     "execution_count": 22,
     "metadata": {},
     "output_type": "execute_result"
    }
   ],
   "source": [
    "\n",
    "def remove_extra_whitespace(string: str) -> str:\n",
    "    return \" \".join(re.sub(r'\\s+', ' ', string).split())\n",
    "\n",
    "def clean_up_string(string: str) -> str:\n",
    "    # define the pattern\n",
    "    pattern = r\"([A-Z]*[a-z]*[\\d]*)\"\n",
    "    _string = remove_extra_whitespace(' '.join(re.findall(pattern, string)))\n",
    "    return _string.replace(' ', '_').lower()\n",
    "\n",
    "clean_up_string('JohnDoe - Course from 2018-01-01 to 2018-01-31')"
   ]
  },
  {
   "cell_type": "code",
   "execution_count": 20,
   "metadata": {},
   "outputs": [
    {
     "data": {
      "text/plain": [
       "'John_Doe_Course_from_2018_01_01_to_2018_01_31'"
      ]
     },
     "execution_count": 20,
     "metadata": {},
     "output_type": "execute_result"
    }
   ],
   "source": [
    "def remove_extra_whitespace(string: str) -> str:\n",
    "    return \"_\".join(re.sub(r'\\s+', ' ', string).split())\n",
    "\n",
    "remove_extra_whitespace('John Doe    Course  from  2018  01  01  to  2018  01  31')\n"
   ]
  },
  {
   "cell_type": "code",
   "execution_count": 123,
   "metadata": {},
   "outputs": [
    {
     "name": "stdout",
     "output_type": "stream",
     "text": [
      "john_dóè_245_course_from_2018_01_01_to_2018_01_31\n"
     ]
    },
    {
     "data": {
      "text/plain": [
       "'john_doe_245_course_from_2018_01_01_to_2018_01_31'"
      ]
     },
     "execution_count": 123,
     "metadata": {},
     "output_type": "execute_result"
    }
   ],
   "source": [
    "\n",
    "import re\n",
    "\n",
    "def remove_extra_whitespace(string: str) -> str:\n",
    "    return \" \".join(re.sub(r'\\s+', ' ', string).split())\n",
    "\n",
    "def clean_up_string(string: str) -> str:\n",
    "    # it should keep accented characters\n",
    "    # define the pattern to clean up the string\n",
    "    pattern = r\"([^\\W_]+[A-Za-z0-9]*)\" #r\"([A-Z]*[a-z]*[\\d]*)\"\n",
    "    return remove_extra_whitespace(' '.join(re.findall(pattern, string)))\n",
    "\n",
    "\n",
    "def separate_words_and_numbers(string: str) -> str:\n",
    "    pattern = r\"(\\d+)\"\n",
    "    return ' '.join(re.split(pattern, string))\n",
    "\n",
    "\n",
    "def split_camel_case(string: str) -> str:\n",
    "    # split the string if CamelCase\n",
    "    return \" \".join(re.split(r'([A-Z]+[a-z0-9]+)', string))\n",
    "\n",
    "def to_snake_case(string: str) -> str:\n",
    "    # split the string if CamelCase\n",
    "    _string = split_camel_case(string)\n",
    "    _string = clean_up_string(_string).lower()\n",
    "    _string = separate_words_and_numbers(_string)\n",
    "    return '_'.join(_string.split())\n",
    "\n",
    "print(to_snake_case('JohnDóè245 - Course from 2018-01-01 to 2018-01-31'))\n",
    "to_snake_case('JohnDoe245 - CourseFrom 2018-01-01 to 2018-01-31')\n"
   ]
  },
  {
   "cell_type": "code",
   "execution_count": 2,
   "metadata": {},
   "outputs": [
    {
     "data": {
      "text/plain": [
       "1"
      ]
     },
     "execution_count": 2,
     "metadata": {},
     "output_type": "execute_result"
    }
   ],
   "source": [
    "\n",
    "1 + False\n",
    "\n"
   ]
  }
 ],
 "metadata": {
  "kernelspec": {
   "display_name": "utils-SLbqKYqq",
   "language": "python",
   "name": "python3"
  },
  "language_info": {
   "codemirror_mode": {
    "name": "ipython",
    "version": 3
   },
   "file_extension": ".py",
   "mimetype": "text/x-python",
   "name": "python",
   "nbconvert_exporter": "python",
   "pygments_lexer": "ipython3",
   "version": "3.11.2"
  },
  "orig_nbformat": 4
 },
 "nbformat": 4,
 "nbformat_minor": 2
}
